{
 "cells": [
  {
   "cell_type": "code",
   "execution_count": 1,
   "metadata": {},
   "outputs": [],
   "source": [
    "import pandas as pd\n",
    "import numpy as np\n",
    "import tensorflow as tf\n",
    "from tensorflow import keras\n",
    "from tensorflow.keras import layers\n",
    "import matplotlib.pyplot as plt"
   ]
  },
  {
   "cell_type": "code",
   "execution_count": 2,
   "metadata": {},
   "outputs": [
    {
     "name": "stdout",
     "output_type": "stream",
     "text": [
      "pandas:  1.1.0\n",
      "numpy:  1.19.1\n"
     ]
    }
   ],
   "source": [
    "print('pandas: ',pd.__version__)\n",
    "print('numpy: ', np.__version__)"
   ]
  },
  {
   "cell_type": "code",
   "execution_count": 3,
   "metadata": {},
   "outputs": [
    {
     "data": {
      "text/html": [
       "<div>\n",
       "<style scoped>\n",
       "    .dataframe tbody tr th:only-of-type {\n",
       "        vertical-align: middle;\n",
       "    }\n",
       "\n",
       "    .dataframe tbody tr th {\n",
       "        vertical-align: top;\n",
       "    }\n",
       "\n",
       "    .dataframe thead th {\n",
       "        text-align: right;\n",
       "    }\n",
       "</style>\n",
       "<table border=\"1\" class=\"dataframe\">\n",
       "  <thead>\n",
       "    <tr style=\"text-align: right;\">\n",
       "      <th></th>\n",
       "      <th>User-ID</th>\n",
       "      <th>ISBN</th>\n",
       "      <th>Book-Rating</th>\n",
       "    </tr>\n",
       "  </thead>\n",
       "  <tbody>\n",
       "    <tr>\n",
       "      <th>0</th>\n",
       "      <td>276725</td>\n",
       "      <td>034545104X</td>\n",
       "      <td>0</td>\n",
       "    </tr>\n",
       "    <tr>\n",
       "      <th>1</th>\n",
       "      <td>276726</td>\n",
       "      <td>0155061224</td>\n",
       "      <td>5</td>\n",
       "    </tr>\n",
       "    <tr>\n",
       "      <th>2</th>\n",
       "      <td>276727</td>\n",
       "      <td>0446520802</td>\n",
       "      <td>0</td>\n",
       "    </tr>\n",
       "    <tr>\n",
       "      <th>3</th>\n",
       "      <td>276729</td>\n",
       "      <td>052165615X</td>\n",
       "      <td>3</td>\n",
       "    </tr>\n",
       "    <tr>\n",
       "      <th>4</th>\n",
       "      <td>276729</td>\n",
       "      <td>0521795028</td>\n",
       "      <td>6</td>\n",
       "    </tr>\n",
       "  </tbody>\n",
       "</table>\n",
       "</div>"
      ],
      "text/plain": [
       "   User-ID        ISBN  Book-Rating\n",
       "0   276725  034545104X            0\n",
       "1   276726  0155061224            5\n",
       "2   276727  0446520802            0\n",
       "3   276729  052165615X            3\n",
       "4   276729  0521795028            6"
      ]
     },
     "execution_count": 3,
     "metadata": {},
     "output_type": "execute_result"
    }
   ],
   "source": [
    "df = pd.read_csv('./data/BX-Book-Ratings.csv', sep=';',error_bad_lines=False , encoding='latin-1')\n",
    "df.head()"
   ]
  },
  {
   "cell_type": "code",
   "execution_count": 4,
   "metadata": {},
   "outputs": [
    {
     "data": {
      "text/html": [
       "<div>\n",
       "<style scoped>\n",
       "    .dataframe tbody tr th:only-of-type {\n",
       "        vertical-align: middle;\n",
       "    }\n",
       "\n",
       "    .dataframe tbody tr th {\n",
       "        vertical-align: top;\n",
       "    }\n",
       "\n",
       "    .dataframe thead th {\n",
       "        text-align: right;\n",
       "    }\n",
       "</style>\n",
       "<table border=\"1\" class=\"dataframe\">\n",
       "  <thead>\n",
       "    <tr style=\"text-align: right;\">\n",
       "      <th></th>\n",
       "      <th>user</th>\n",
       "      <th>book</th>\n",
       "      <th>rating</th>\n",
       "    </tr>\n",
       "  </thead>\n",
       "  <tbody>\n",
       "    <tr>\n",
       "      <th>0</th>\n",
       "      <td>276725</td>\n",
       "      <td>034545104X</td>\n",
       "      <td>0</td>\n",
       "    </tr>\n",
       "    <tr>\n",
       "      <th>1</th>\n",
       "      <td>276726</td>\n",
       "      <td>0155061224</td>\n",
       "      <td>5</td>\n",
       "    </tr>\n",
       "    <tr>\n",
       "      <th>2</th>\n",
       "      <td>276727</td>\n",
       "      <td>0446520802</td>\n",
       "      <td>0</td>\n",
       "    </tr>\n",
       "    <tr>\n",
       "      <th>3</th>\n",
       "      <td>276729</td>\n",
       "      <td>052165615X</td>\n",
       "      <td>3</td>\n",
       "    </tr>\n",
       "    <tr>\n",
       "      <th>4</th>\n",
       "      <td>276729</td>\n",
       "      <td>0521795028</td>\n",
       "      <td>6</td>\n",
       "    </tr>\n",
       "  </tbody>\n",
       "</table>\n",
       "</div>"
      ],
      "text/plain": [
       "     user        book  rating\n",
       "0  276725  034545104X       0\n",
       "1  276726  0155061224       5\n",
       "2  276727  0446520802       0\n",
       "3  276729  052165615X       3\n",
       "4  276729  0521795028       6"
      ]
     },
     "execution_count": 4,
     "metadata": {},
     "output_type": "execute_result"
    }
   ],
   "source": [
    "df.columns = ['user', 'book', 'rating']\n",
    "df.head()"
   ]
  },
  {
   "cell_type": "code",
   "execution_count": 5,
   "metadata": {},
   "outputs": [
    {
     "name": "stdout",
     "output_type": "stream",
     "text": [
      "Original dataset size 3449340\n"
     ]
    }
   ],
   "source": [
    "print('Original dataset size', df.size)"
   ]
  },
  {
   "cell_type": "code",
   "execution_count": 6,
   "metadata": {},
   "outputs": [
    {
     "name": "stdout",
     "output_type": "stream",
     "text": [
      "Original dataset user count: 105283\n",
      "Selecting 5132 user with more that 30 ratings\n",
      "Original dataset book count: 340556\n",
      "Selecting 7064 books with more that 20 ratings\n",
      "New dataset size: 265321\n"
     ]
    }
   ],
   "source": [
    "user_min_ratings = 30\n",
    "book_min_ratings = 20\n",
    "\n",
    "user_filter = df['user'].value_counts() > user_min_ratings\n",
    "user_filter = user_filter[user_filter].index.tolist()\n",
    "\n",
    "book_filter = df['book'].value_counts() > book_min_ratings\n",
    "book_filter = book_filter[book_filter].index.tolist()\n",
    "\n",
    "print(f'Original dataset user count: {len(df[\"user\"].unique())}')\n",
    "print(f'Selecting {len(user_filter)} user with more that {user_min_ratings} ratings')\n",
    "print(f'Original dataset book count: {len(df[\"book\"].unique())}')\n",
    "print(f'Selecting {len(book_filter)} books with more that {book_min_ratings} ratings')\n",
    "\n",
    "df_new = df[df['book'].isin(book_filter) & df['user'].isin(user_filter)].copy(deep=True)\n",
    "\n",
    "print(f'New dataset size: {len(df_new)}')"
   ]
  },
  {
   "cell_type": "code",
   "execution_count": 141,
   "metadata": {},
   "outputs": [
    {
     "data": {
      "text/html": [
       "<div>\n",
       "<style scoped>\n",
       "    .dataframe tbody tr th:only-of-type {\n",
       "        vertical-align: middle;\n",
       "    }\n",
       "\n",
       "    .dataframe tbody tr th {\n",
       "        vertical-align: top;\n",
       "    }\n",
       "\n",
       "    .dataframe thead th {\n",
       "        text-align: right;\n",
       "    }\n",
       "</style>\n",
       "<table border=\"1\" class=\"dataframe\">\n",
       "  <thead>\n",
       "    <tr style=\"text-align: right;\">\n",
       "      <th></th>\n",
       "      <th>user</th>\n",
       "      <th>book</th>\n",
       "      <th>rating</th>\n",
       "      <th>user_id</th>\n",
       "      <th>book_id</th>\n",
       "    </tr>\n",
       "  </thead>\n",
       "  <tbody>\n",
       "    <tr>\n",
       "      <th>173</th>\n",
       "      <td>276847</td>\n",
       "      <td>0446364193</td>\n",
       "      <td>0</td>\n",
       "      <td>0</td>\n",
       "      <td>0</td>\n",
       "    </tr>\n",
       "    <tr>\n",
       "      <th>175</th>\n",
       "      <td>276847</td>\n",
       "      <td>3379015180</td>\n",
       "      <td>0</td>\n",
       "      <td>0</td>\n",
       "      <td>1</td>\n",
       "    </tr>\n",
       "    <tr>\n",
       "      <th>182</th>\n",
       "      <td>276847</td>\n",
       "      <td>3426029553</td>\n",
       "      <td>8</td>\n",
       "      <td>0</td>\n",
       "      <td>2</td>\n",
       "    </tr>\n",
       "    <tr>\n",
       "      <th>210</th>\n",
       "      <td>276847</td>\n",
       "      <td>3551551677</td>\n",
       "      <td>10</td>\n",
       "      <td>0</td>\n",
       "      <td>3</td>\n",
       "    </tr>\n",
       "    <tr>\n",
       "      <th>338</th>\n",
       "      <td>276875</td>\n",
       "      <td>0688172377</td>\n",
       "      <td>0</td>\n",
       "      <td>1</td>\n",
       "      <td>4</td>\n",
       "    </tr>\n",
       "  </tbody>\n",
       "</table>\n",
       "</div>"
      ],
      "text/plain": [
       "       user        book  rating  user_id  book_id\n",
       "173  276847  0446364193       0        0        0\n",
       "175  276847  3379015180       0        0        1\n",
       "182  276847  3426029553       8        0        2\n",
       "210  276847  3551551677      10        0        3\n",
       "338  276875  0688172377       0        1        4"
      ]
     },
     "execution_count": 141,
     "metadata": {},
     "output_type": "execute_result"
    }
   ],
   "source": [
    "user_ids = df_new['user'].unique().tolist()\n",
    "user2id = {x: i for i, x in enumerate(user_ids)}\n",
    "id2user = {i: x for i, x in enumerate(user_ids)}\n",
    "df_new['user_id'] = df_new['user'].map(user2id)\n",
    "\n",
    "book_ids = df_new['book'].unique().tolist()\n",
    "book2id = {x: i for i, x in enumerate(book_ids)}\n",
    "id2book = {i: x for i, x in enumerate(book_ids)}\n",
    "df_new['book_id'] = df_new['book'].map(book2id)\n",
    "df_new.head()"
   ]
  },
  {
   "cell_type": "code",
   "execution_count": 144,
   "metadata": {},
   "outputs": [
    {
     "name": "stdout",
     "output_type": "stream",
     "text": [
      "User count 5032\n",
      "Book count 7063\n"
     ]
    }
   ],
   "source": [
    "max_rating = max(df_new['rating'])\n",
    "min_rating = min(df_new['rating'])\n",
    "num_users = len(user_ids)\n",
    "num_books = len(book_ids)\n",
    "\n",
    "print('User count', num_users)\n",
    "print('Book count', num_books)"
   ]
  },
  {
   "cell_type": "code",
   "execution_count": 221,
   "metadata": {},
   "outputs": [],
   "source": [
    "df_new[\"rating\"] = df_new[\"rating\"].values.astype(np.float32)\n",
    "df_new = df_new.sample(frac=1, random_state=42)\n",
    "x = df_new[[\"user_id\", \"book_id\"]].values\n",
    "y = df_new[\"rating\"].apply(lambda x: (x - min_rating) / (max_rating - min_rating)).values"
   ]
  },
  {
   "cell_type": "code",
   "execution_count": 155,
   "metadata": {},
   "outputs": [],
   "source": [
    "train_indices = int(0.9 * df_new.shape[0])\n",
    "x_train, x_val, y_train, y_val = (\n",
    "    x[:train_indices],\n",
    "    x[train_indices:],\n",
    "    y[:train_indices],\n",
    "    y[train_indices:],\n",
    ")"
   ]
  },
  {
   "cell_type": "code",
   "execution_count": 191,
   "metadata": {},
   "outputs": [
    {
     "name": "stdout",
     "output_type": "stream",
     "text": [
      "x_train shape: (238788, 2)\n",
      "y_train shape: (238788,)\n",
      "x_val shape: (26533, 2)\n",
      "y_val shape: (26533,)\n"
     ]
    }
   ],
   "source": [
    "print(f'x_train shape: {x_train.shape}')\n",
    "print(f'y_train shape: {y_train.shape}')\n",
    "print(f'x_val shape: {x_val.shape}')\n",
    "print(f'y_val shape: {y_val.shape}')"
   ]
  },
  {
   "cell_type": "code",
   "execution_count": 219,
   "metadata": {},
   "outputs": [],
   "source": [
    "EMBEDDING_SIZE = 50\n",
    "\n",
    "# class RecommenderNet(tf.keras.Model):\n",
    "#     def __init__(self, num_users, num_books, embedding_size, **kwargs):\n",
    "#         super(RecommenderNet, self).__init__(**kwargs)\n",
    "#         self.num_users = num_users\n",
    "#         self.num_books = num_books\n",
    "#         self.embedding_size = embedding_size\n",
    "#         self.user_embedding = layers.Embedding(\n",
    "#             num_users,\n",
    "#             embedding_size,\n",
    "#             embeddings_initializer=\"he_normal\",\n",
    "#             embeddings_regularizer=keras.regularizers.l2(1e-6),\n",
    "#         )\n",
    "#         self.user_bias = layers.Embedding(num_users, 1)\n",
    "#         self.book_embedding = layers.Embedding(\n",
    "#             num_books,\n",
    "#             embedding_size,\n",
    "#             embeddings_initializer=\"he_normal\",\n",
    "#             embeddings_regularizer=keras.regularizers.l2(1e-6),\n",
    "#         )\n",
    "#         self.book_bias = layers.Embedding(num_books, 1)\n",
    "\n",
    "#     def call(self, inputs):\n",
    "#         user_vector = self.user_embedding(inputs[:, 0])\n",
    "#         user_bias = self.user_bias(inputs[:, 0])\n",
    "#         book_vector = self.book_embedding(inputs[:, 1])\n",
    "#         book_bias = self.book_bias(inputs[:, 1])\n",
    "#         dot_user_book = tf.tensordot(user_vector, book_vector, 2)\n",
    "#         x = dot_user_book + user_bias + book_bias\n",
    "#         # The sigmoid activation forces the rating to between 0 and 1\n",
    "#         return tf.nn.sigmoid(x)\n",
    "\n",
    "def book_embedding_model(embedding_size=30):\n",
    "    user = Input(name='user', shape=(1,))\n",
    "    book = Input(name='book', shape=(1,))\n",
    "    user_embedding = Embedding(name='user_embedding',\n",
    "        input_dim=num_users, output_dim=embedding_size)(user)\n",
    "    book_embedding = Embedding(name='book_embedding',\n",
    "        input_dim=num_books, output_dim=embedding_size)(book)\n",
    "    dot = Dot(name='dot_product', normalize=True, axes=2)(\n",
    "        [user_embedding, book_embedding])\n",
    "    merged = Reshape((1,))(dot)\n",
    "    model = Model(inputs=[user, book], outputs=[merged])\n",
    "    model.compile(optimizer='nadam', loss='mse')\n",
    "    return model\n",
    "\n",
    "\n",
    "# model = RecommenderNet(num_users, num_books, EMBEDDING_SIZE)\n",
    "model = book_embedding_model()\n",
    "model.compile(\n",
    "    loss=tf.keras.losses.BinaryCrossentropy(), optimizer=keras.optimizers.Adam(lr=0.001/2)\n",
    ")"
   ]
  },
  {
   "cell_type": "code",
   "execution_count": 220,
   "metadata": {},
   "outputs": [
    {
     "name": "stdout",
     "output_type": "stream",
     "text": [
      "Model: \"model_5\"\n",
      "__________________________________________________________________________________________________\n",
      "Layer (type)                    Output Shape         Param #     Connected to                     \n",
      "==================================================================================================\n",
      "user (InputLayer)               [(None, 1)]          0                                            \n",
      "__________________________________________________________________________________________________\n",
      "book (InputLayer)               [(None, 1)]          0                                            \n",
      "__________________________________________________________________________________________________\n",
      "user_embedding (Embedding)      (None, 1, 30)        150960      user[0][0]                       \n",
      "__________________________________________________________________________________________________\n",
      "book_embedding (Embedding)      (None, 1, 30)        211890      book[0][0]                       \n",
      "__________________________________________________________________________________________________\n",
      "dot_product (Dot)               (None, 1, 1)         0           user_embedding[0][0]             \n",
      "                                                                 book_embedding[0][0]             \n",
      "__________________________________________________________________________________________________\n",
      "reshape_9 (Reshape)             (None, 1)            0           dot_product[0][0]                \n",
      "==================================================================================================\n",
      "Total params: 362,850\n",
      "Trainable params: 362,850\n",
      "Non-trainable params: 0\n",
      "__________________________________________________________________________________________________\n"
     ]
    }
   ],
   "source": [
    "model.summary()"
   ]
  },
  {
   "cell_type": "code",
   "execution_count": 229,
   "metadata": {},
   "outputs": [
    {
     "name": "stdout",
     "output_type": "stream",
     "text": [
      "Epoch 1/5\n",
      "3732/3732 [==============================] - 41s 11ms/step - loss: 0.6681 - val_loss: 1.2747\n",
      "Epoch 2/5\n",
      "3732/3732 [==============================] - 38s 10ms/step - loss: 0.5988 - val_loss: 1.2324\n",
      "Epoch 3/5\n",
      "3732/3732 [==============================] - 43s 12ms/step - loss: 0.5547 - val_loss: 1.1992\n",
      "Epoch 4/5\n",
      "3732/3732 [==============================] - 42s 11ms/step - loss: 0.5223 - val_loss: 1.1926\n",
      "Epoch 5/5\n",
      "3732/3732 [==============================] - 45s 12ms/step - loss: 0.4978 - val_loss: 1.1769\n"
     ]
    }
   ],
   "source": [
    "history = model.fit(\n",
    "    x=[x_train[:, 0], x_train[:, 1]],\n",
    "    y=y_train,\n",
    "    batch_size=64,\n",
    "    epochs=5,\n",
    "    verbose=1,\n",
    "    validation_data=([x_val[:, 0], x_val[:, 1]], y_val),\n",
    ")"
   ]
  },
  {
   "cell_type": "code",
   "execution_count": 230,
   "metadata": {},
   "outputs": [
    {
     "data": {
      "image/png": "[encoded data removed]",
      "text/plain": [
       "<Figure size 432x288 with 1 Axes>"
      ]
     },
     "metadata": {
      "needs_background": "light"
     },
     "output_type": "display_data"
    }
   ],
   "source": [
    "plt.plot(history.history[\"loss\"])\n",
    "plt.plot(history.history[\"val_loss\"])\n",
    "plt.title(\"model loss\")\n",
    "plt.ylabel(\"loss\")\n",
    "plt.xlabel(\"epoch\")\n",
    "plt.legend([\"train\", \"test\"], loc=\"upper left\")\n",
    "plt.show()"
   ]
  },
  {
   "cell_type": "code",
   "execution_count": 231,
   "metadata": {},
   "outputs": [],
   "source": [
    "book_embedding = model.get_layer('book_embedding')\n",
    "book_weights = book_embedding.get_weights()[0]\n",
    "lens = np.linalg.norm(book_weights, axis=1)\n",
    "normalized = (book_weights.T / lens).T\n",
    "\n",
    "def neighbors(book):\n",
    "    dists = np.dot(normalized, normalized[book2id[book]])\n",
    "    closest = np.argsort(dists)[-10:]\n",
    "    for c in reversed(closest):\n",
    "        print(c, id2book[c], dists[c])"
   ]
  },
  {
   "cell_type": "code",
   "execution_count": 232,
   "metadata": {},
   "outputs": [
    {
     "name": "stdout",
     "output_type": "stream",
     "text": [
      "1385 0345339711 0.9999999\n",
      "1680 0345339738 0.9003818\n",
      "1679 0345339703 0.8170532\n",
      "201 0385484518 0.7399914\n",
      "6114 014034019X 0.68400836\n",
      "180 0345339681 0.66840315\n",
      "6133 0312863551 0.65853137\n",
      "5532 014062063X 0.65327436\n",
      "1131 0312966970 0.64794093\n",
      "612 0765341174 0.64677006\n"
     ]
    }
   ],
   "source": [
    "neighbors('0345339711')"
   ]
  },
  {
   "cell_type": "code",
   "execution_count": null,
   "metadata": {},
   "outputs": [],
   "source": [
    "# Saving\n",
    "np.save('./data/book_embedding_weights', book_weights)\n",
    "np.save('./data/book_2_id', book2id)\n",
    "np.save('./data/id_2_book', id2book)"
   ]
  },
  {
   "cell_type": "code",
   "execution_count": null,
   "metadata": {},
   "outputs": [],
   "source": [
    "df_books = pd.read_csv('./data/BX-Books.csv', sep=';',error_bad_lines=False , encoding='latin-1')\n",
    "df_books = df_books.drop(\n",
    "    ['Book-Author', 'Year-Of-Publication', 'Publisher', 'Image-URL-S', 'Image-URL-M', 'Image-URL-L'],\n",
    "    axis=1\n",
    ")\n",
    "df_books = df_books[df_books['ISBN'].isin(book_filter)].copy()\n",
    "np.save('./data/reduced-books', df_books.values)"
   ]
  }
 ],
 "metadata": {
  "kernelspec": {
   "display_name": "Python 3",
   "language": "python",
   "name": "python3"
  },
  "language_info": {
   "codemirror_mode": {
    "name": "ipython",
    "version": 3
   },
   "file_extension": ".py",
   "mimetype": "text/x-python",
   "name": "python",
   "nbconvert_exporter": "python",
   "pygments_lexer": "ipython3",
   "version": "3.8.5"
  }
 },
 "nbformat": 4,
 "nbformat_minor": 4
}
